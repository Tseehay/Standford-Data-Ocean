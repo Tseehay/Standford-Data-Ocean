{
 "cells": [
  {
   "cell_type": "markdown",
   "id": "2b7faaa9",
   "metadata": {
    "id": "2b7faaa9"
   },
   "source": [
    "<img src=\"materials/images/introduction-to-genomic-data-cover.png\"/>"
   ]
  },
  {
   "cell_type": "markdown",
   "id": "369f5a20",
   "metadata": {
    "id": "369f5a20"
   },
   "source": [
    "# Introduction to Genomics"
   ]
  },
  {
   "cell_type": "markdown",
   "id": "42c9fc5f",
   "metadata": {
    "id": "42c9fc5f"
   },
   "source": [
    "Genomics is the branch of molecular biology concerned with the structure, function, evolution, and mapping of genomes.\n",
    "\n",
    "In this module, you will be learning about how to process and annotate **Variant Call Format (VCF)** file using Amazon Athena. The Variant Call Format specifies the format of a text file used in bioinformatics for storing gene sequence variations.\n",
    "\n",
    "The format has been developed with the advent of large-scale genotyping and DNA sequencing projects, such as the ***1000 Genomes Project***."
   ]
  },
  {
   "cell_type": "markdown",
   "id": "b3-PS1S-fdRS",
   "metadata": {
    "id": "b3-PS1S-fdRS"
   },
   "source": [
    "`🕒 This module should take about 30 minutes to complete.`\n",
    "\n",
    "`✍️ This notebook is written using Python.`"
   ]
  },
  {
   "cell_type": "markdown",
   "id": "QtKAV5AGYr5r",
   "metadata": {
    "id": "QtKAV5AGYr5r"
   },
   "source": [
    "<div class=\"alert alert-block alert-info\">\n",
    "<h3>⌨️ Keyboard shortcut</h3>\n",
    "\n",
    "These common shortcut could save your time going through this notebook:\n",
    "- Run the current cell: **`Enter + Shift`**.\n",
    "- Add a cell above the current cell: Press **`A`**.\n",
    "- Add a cell below the current cell: Press **`B`**.\n",
    "- Change a code cell to markdown cell: Select the cell, and then press **`M`**.\n",
    "- Delete a cell: Press **`D`** twice.\n",
    "\n",
    "Need more help with keyboard shortcut? Press **`H`** to look it up.\n",
    "</div>"
   ]
  },
  {
   "cell_type": "markdown",
   "id": "NQjI63DVgFU4",
   "metadata": {
    "id": "NQjI63DVgFU4"
   },
   "source": [
    "\n",
    "\n",
    "---\n"
   ]
  },
  {
   "cell_type": "code",
   "execution_count": null,
   "id": "7162b246",
   "metadata": {
    "id": "7162b246"
   },
   "outputs": [],
   "source": [
    "# Tables you can query\n",
    "# ['default.g1000vcf_csv_int', 'default.g1000vcf_csv', 'default.g1000vcf_parquet', 'default.g1000vcf_partitioned']\n",
    "# COSMIC68 Annotation Dataset ['1000_genomes.hg19_cosmic68_int']\n",
    "# UCSC RefGene Annotation Dataset ['1000_genomes.hg19_ucsc_refgene_int']"
   ]
  },
  {
   "cell_type": "markdown",
   "id": "fbf6ab1f",
   "metadata": {
    "id": "fbf6ab1f"
   },
   "source": [
    "---"
   ]
  },
  {
   "cell_type": "markdown",
   "id": "a19b57dd",
   "metadata": {
    "id": "a19b57dd"
   },
   "source": [
    "# Initial Setup"
   ]
  },
  {
   "cell_type": "markdown",
   "id": "6a4285bd",
   "metadata": {
    "id": "6a4285bd"
   },
   "source": [
    "We'll use the PyAthena library to get access to a database stored in AWS S3. You can read more about PyAthena here:\n",
    "\n",
    "• https://pypi.org/project/pyathena/\n",
    "\n",
    "• https://aws.amazon.com/athena/?whats-new-cards.sort-by=item.additionalFields.postDateTime&whats-new-cards.sort-order=desc"
   ]
  },
  {
   "cell_type": "code",
   "execution_count": 3,
   "id": "ac8fbba6-8191-4779-b89d-18397adeca83",
   "metadata": {},
   "outputs": [
    {
     "name": "stdout",
     "output_type": "stream",
     "text": [
      "Requirement already satisfied: PyAthena in /home/tse/anaconda3/lib/python3.11/site-packages (3.12.2)\n",
      "Requirement already satisfied: boto3>=1.26.4 in /home/tse/anaconda3/lib/python3.11/site-packages (from PyAthena) (1.36.22)\n",
      "Requirement already satisfied: botocore>=1.29.4 in /home/tse/anaconda3/lib/python3.11/site-packages (from PyAthena) (1.36.22)\n",
      "Requirement already satisfied: fsspec in /home/tse/anaconda3/lib/python3.11/site-packages (from PyAthena) (2023.10.0)\n",
      "Requirement already satisfied: python-dateutil in /home/tse/anaconda3/lib/python3.11/site-packages (from PyAthena) (2.8.2)\n",
      "Requirement already satisfied: tenacity>=4.1.0 in /home/tse/anaconda3/lib/python3.11/site-packages (from PyAthena) (8.2.2)\n",
      "Requirement already satisfied: jmespath<2.0.0,>=0.7.1 in /home/tse/anaconda3/lib/python3.11/site-packages (from boto3>=1.26.4->PyAthena) (1.0.1)\n",
      "Requirement already satisfied: s3transfer<0.12.0,>=0.11.0 in /home/tse/anaconda3/lib/python3.11/site-packages (from boto3>=1.26.4->PyAthena) (0.11.2)\n",
      "Requirement already satisfied: urllib3!=2.2.0,<3,>=1.25.4 in /home/tse/anaconda3/lib/python3.11/site-packages (from botocore>=1.29.4->PyAthena) (2.0.7)\n",
      "Requirement already satisfied: six>=1.5 in /home/tse/anaconda3/lib/python3.11/site-packages (from python-dateutil->PyAthena) (1.16.0)\n",
      "\n",
      "\u001b[1m[\u001b[0m\u001b[34;49mnotice\u001b[0m\u001b[1;39;49m]\u001b[0m\u001b[39;49m A new release of pip is available: \u001b[0m\u001b[31;49m24.3.1\u001b[0m\u001b[39;49m -> \u001b[0m\u001b[32;49m25.0.1\u001b[0m\n",
      "\u001b[1m[\u001b[0m\u001b[34;49mnotice\u001b[0m\u001b[1;39;49m]\u001b[0m\u001b[39;49m To update, run: \u001b[0m\u001b[32;49mpip install --upgrade pip\u001b[0m\n"
     ]
    }
   ],
   "source": [
    "!pip install PyAthena"
   ]
  },
  {
   "cell_type": "code",
   "execution_count": 4,
   "id": "bbf47a77",
   "metadata": {
    "id": "bbf47a77"
   },
   "outputs": [],
   "source": [
    "import sys\n",
    "import pyathena\n",
    "import pandas as pd\n",
    "\n",
    "from IPython import display\n",
    "\n",
    "conn = pyathena.connect(s3_staging_dir=\"s3://athena-output-351869726285/\", region_name='us-east-1', encryption_option='SSE_S3')"
   ]
  },
  {
   "cell_type": "markdown",
   "id": "7cd1ab4f",
   "metadata": {
    "id": "7cd1ab4f"
   },
   "source": [
    "---"
   ]
  },
  {
   "cell_type": "markdown",
   "id": "ba9e982b",
   "metadata": {
    "id": "ba9e982b"
   },
   "source": [
    "# Query the 1000 Genomes Project Dataset"
   ]
  },
  {
   "cell_type": "markdown",
   "id": "ccb28591",
   "metadata": {
    "id": "ccb28591"
   },
   "source": [
    "It's usually helpful to picture the data before performing any analysis, so we are going to import the database as the first step, and then view a few random rows."
   ]
  },
  {
   "cell_type": "markdown",
   "id": "0334839e",
   "metadata": {
    "id": "0334839e"
   },
   "source": [
    "<div class=\"alert alert-block alert-info\">\n",
    "<b>Tip:</b> If you are new to Jupyter Notebook, try run the code cell below using keyboard shortcut: \"Shift\" + \"Enter\". You could look up more keyboard shortcuts by pressing \"H\".\n",
    "</div>"
   ]
  },
  {
   "cell_type": "code",
   "execution_count": 7,
   "id": "aa8902a9-74f0-4e27-8c17-894d9a91548c",
   "metadata": {},
   "outputs": [
    {
     "name": "stdout",
     "output_type": "stream",
     "text": [
      "Collecting mysql-connector-python\n",
      "  Downloading mysql_connector_python-9.2.0-cp311-cp311-manylinux_2_28_x86_64.whl.metadata (6.0 kB)\n",
      "Downloading mysql_connector_python-9.2.0-cp311-cp311-manylinux_2_28_x86_64.whl (34.0 MB)\n",
      "\u001b[2K   \u001b[38;2;114;156;31m━━━━━━━━━━━━━━━━━━━━━━━━━━━━━━━━━━━━━━━━\u001b[0m \u001b[32m34.0/34.0 MB\u001b[0m \u001b[31m936.0 kB/s\u001b[0m eta \u001b[36m0:00:00\u001b[0mm eta \u001b[36m0:00:01\u001b[0m[36m0:00:01\u001b[0m\n",
      "\u001b[?25hInstalling collected packages: mysql-connector-python\n",
      "Successfully installed mysql-connector-python-9.2.0\n",
      "\n",
      "\u001b[1m[\u001b[0m\u001b[34;49mnotice\u001b[0m\u001b[1;39;49m]\u001b[0m\u001b[39;49m A new release of pip is available: \u001b[0m\u001b[31;49m24.3.1\u001b[0m\u001b[39;49m -> \u001b[0m\u001b[32;49m25.0.1\u001b[0m\n",
      "\u001b[1m[\u001b[0m\u001b[34;49mnotice\u001b[0m\u001b[1;39;49m]\u001b[0m\u001b[39;49m To update, run: \u001b[0m\u001b[32;49mpip install --upgrade pip\u001b[0m\n"
     ]
    }
   ],
   "source": [
    " !pip install mysql-connector-python"
   ]
  },
  {
   "cell_type": "code",
   "execution_count": 8,
   "id": "e73bd98e",
   "metadata": {
    "id": "e73bd98e"
   },
   "outputs": [
    {
     "name": "stderr",
     "output_type": "stream",
     "text": [
      "/tmp/ipykernel_17869/653230635.py:2: UserWarning: pandas only supports SQLAlchemy connectable (engine/connection) or database string URI or sqlite3 DBAPI2 connection. Other DBAPI2 objects are not tested. Please consider using SQLAlchemy.\n",
      "  pd.read_sql('SELECT * FROM default.g1000vcf_csv_int LIMIT 10', conn).head(10)\n",
      "Failed to execute query.\n",
      "Traceback (most recent call last):\n",
      "  File \"/home/tse/anaconda3/lib/python3.11/site-packages/pyathena/common.py\", line 586, in _execute\n",
      "    query_id = retry_api_call(\n",
      "               ^^^^^^^^^^^^^^^\n",
      "  File \"/home/tse/anaconda3/lib/python3.11/site-packages/pyathena/util.py\", line 84, in retry_api_call\n",
      "    return retry(func, *args, **kwargs)\n",
      "           ^^^^^^^^^^^^^^^^^^^^^^^^^^^^\n",
      "  File \"/home/tse/anaconda3/lib/python3.11/site-packages/tenacity/__init__.py\", line 379, in __call__\n",
      "    do = self.iter(retry_state=retry_state)\n",
      "         ^^^^^^^^^^^^^^^^^^^^^^^^^^^^^^^^^^\n",
      "  File \"/home/tse/anaconda3/lib/python3.11/site-packages/tenacity/__init__.py\", line 314, in iter\n",
      "    return fut.result()\n",
      "           ^^^^^^^^^^^^\n",
      "  File \"/home/tse/anaconda3/lib/python3.11/concurrent/futures/_base.py\", line 449, in result\n",
      "    return self.__get_result()\n",
      "           ^^^^^^^^^^^^^^^^^^^\n",
      "  File \"/home/tse/anaconda3/lib/python3.11/concurrent/futures/_base.py\", line 401, in __get_result\n",
      "    raise self._exception\n",
      "  File \"/home/tse/anaconda3/lib/python3.11/site-packages/tenacity/__init__.py\", line 382, in __call__\n",
      "    result = fn(*args, **kwargs)\n",
      "             ^^^^^^^^^^^^^^^^^^^\n",
      "  File \"/home/tse/anaconda3/lib/python3.11/site-packages/botocore/client.py\", line 569, in _api_call\n",
      "    return self._make_api_call(operation_name, kwargs)\n",
      "           ^^^^^^^^^^^^^^^^^^^^^^^^^^^^^^^^^^^^^^^^^^^\n",
      "  File \"/home/tse/anaconda3/lib/python3.11/site-packages/botocore/client.py\", line 1005, in _make_api_call\n",
      "    http, parsed_response = self._make_request(\n",
      "                            ^^^^^^^^^^^^^^^^^^^\n",
      "  File \"/home/tse/anaconda3/lib/python3.11/site-packages/botocore/client.py\", line 1029, in _make_request\n",
      "    return self._endpoint.make_request(operation_model, request_dict)\n",
      "           ^^^^^^^^^^^^^^^^^^^^^^^^^^^^^^^^^^^^^^^^^^^^^^^^^^^^^^^^^^\n",
      "  File \"/home/tse/anaconda3/lib/python3.11/site-packages/botocore/endpoint.py\", line 119, in make_request\n",
      "    return self._send_request(request_dict, operation_model)\n",
      "           ^^^^^^^^^^^^^^^^^^^^^^^^^^^^^^^^^^^^^^^^^^^^^^^^^\n",
      "  File \"/home/tse/anaconda3/lib/python3.11/site-packages/botocore/endpoint.py\", line 196, in _send_request\n",
      "    request = self.create_request(request_dict, operation_model)\n",
      "              ^^^^^^^^^^^^^^^^^^^^^^^^^^^^^^^^^^^^^^^^^^^^^^^^^^\n",
      "  File \"/home/tse/anaconda3/lib/python3.11/site-packages/botocore/endpoint.py\", line 132, in create_request\n",
      "    self._event_emitter.emit(\n",
      "  File \"/home/tse/anaconda3/lib/python3.11/site-packages/botocore/hooks.py\", line 412, in emit\n",
      "    return self._emitter.emit(aliased_event_name, **kwargs)\n",
      "           ^^^^^^^^^^^^^^^^^^^^^^^^^^^^^^^^^^^^^^^^^^^^^^^^\n",
      "  File \"/home/tse/anaconda3/lib/python3.11/site-packages/botocore/hooks.py\", line 256, in emit\n",
      "    return self._emit(event_name, kwargs)\n",
      "           ^^^^^^^^^^^^^^^^^^^^^^^^^^^^^^\n",
      "  File \"/home/tse/anaconda3/lib/python3.11/site-packages/botocore/hooks.py\", line 239, in _emit\n",
      "    response = handler(**kwargs)\n",
      "               ^^^^^^^^^^^^^^^^^\n",
      "  File \"/home/tse/anaconda3/lib/python3.11/site-packages/botocore/signers.py\", line 106, in handler\n",
      "    return self.sign(operation_name, request)\n",
      "           ^^^^^^^^^^^^^^^^^^^^^^^^^^^^^^^^^^\n",
      "  File \"/home/tse/anaconda3/lib/python3.11/site-packages/botocore/signers.py\", line 198, in sign\n",
      "    auth.add_auth(request)\n",
      "  File \"/home/tse/anaconda3/lib/python3.11/site-packages/botocore/auth.py\", line 424, in add_auth\n",
      "    raise NoCredentialsError()\n",
      "botocore.exceptions.NoCredentialsError: Unable to locate credentials\n"
     ]
    },
    {
     "ename": "DatabaseError",
     "evalue": "Execution failed on sql: SELECT * FROM default.g1000vcf_csv_int LIMIT 10\nUnable to locate credentials\nunable to rollback",
     "output_type": "error",
     "traceback": [
      "\u001b[0;31m---------------------------------------------------------------------------\u001b[0m",
      "\u001b[0;31mNoCredentialsError\u001b[0m                        Traceback (most recent call last)",
      "File \u001b[0;32m~/anaconda3/lib/python3.11/site-packages/pyathena/common.py:586\u001b[0m, in \u001b[0;36mBaseCursor._execute\u001b[0;34m(self, operation, parameters, work_group, s3_staging_dir, cache_size, cache_expiration_time, result_reuse_enable, result_reuse_minutes, paramstyle)\u001b[0m\n\u001b[1;32m    585\u001b[0m \u001b[38;5;28;01mtry\u001b[39;00m:\n\u001b[0;32m--> 586\u001b[0m     query_id \u001b[38;5;241m=\u001b[39m retry_api_call(\n\u001b[1;32m    587\u001b[0m         \u001b[38;5;28mself\u001b[39m\u001b[38;5;241m.\u001b[39m_connection\u001b[38;5;241m.\u001b[39mclient\u001b[38;5;241m.\u001b[39mstart_query_execution,\n\u001b[1;32m    588\u001b[0m         config\u001b[38;5;241m=\u001b[39m\u001b[38;5;28mself\u001b[39m\u001b[38;5;241m.\u001b[39m_retry_config,\n\u001b[1;32m    589\u001b[0m         logger\u001b[38;5;241m=\u001b[39m_logger,\n\u001b[1;32m    590\u001b[0m         \u001b[38;5;241m*\u001b[39m\u001b[38;5;241m*\u001b[39mrequest,\n\u001b[1;32m    591\u001b[0m     )\u001b[38;5;241m.\u001b[39mget(\u001b[38;5;124m\"\u001b[39m\u001b[38;5;124mQueryExecutionId\u001b[39m\u001b[38;5;124m\"\u001b[39m)\n\u001b[1;32m    592\u001b[0m \u001b[38;5;28;01mexcept\u001b[39;00m \u001b[38;5;167;01mException\u001b[39;00m \u001b[38;5;28;01mas\u001b[39;00m e:\n",
      "File \u001b[0;32m~/anaconda3/lib/python3.11/site-packages/pyathena/util.py:84\u001b[0m, in \u001b[0;36mretry_api_call\u001b[0;34m(func, config, logger, *args, **kwargs)\u001b[0m\n\u001b[1;32m     69\u001b[0m retry \u001b[38;5;241m=\u001b[39m tenacity\u001b[38;5;241m.\u001b[39mRetrying(\n\u001b[1;32m     70\u001b[0m     retry\u001b[38;5;241m=\u001b[39mretry_if_exception(\n\u001b[1;32m     71\u001b[0m         \u001b[38;5;28;01mlambda\u001b[39;00m e: \u001b[38;5;28mgetattr\u001b[39m(e, \u001b[38;5;124m\"\u001b[39m\u001b[38;5;124mresponse\u001b[39m\u001b[38;5;124m\"\u001b[39m, {})\u001b[38;5;241m.\u001b[39mget(\u001b[38;5;124m\"\u001b[39m\u001b[38;5;124mError\u001b[39m\u001b[38;5;124m\"\u001b[39m, {})\u001b[38;5;241m.\u001b[39mget(\u001b[38;5;124m\"\u001b[39m\u001b[38;5;124mCode\u001b[39m\u001b[38;5;124m\"\u001b[39m) \u001b[38;5;129;01min\u001b[39;00m config\u001b[38;5;241m.\u001b[39mexceptions\n\u001b[0;32m   (...)\u001b[0m\n\u001b[1;32m     82\u001b[0m     reraise\u001b[38;5;241m=\u001b[39m\u001b[38;5;28;01mTrue\u001b[39;00m,\n\u001b[1;32m     83\u001b[0m )\n\u001b[0;32m---> 84\u001b[0m \u001b[38;5;28;01mreturn\u001b[39;00m retry(func, \u001b[38;5;241m*\u001b[39margs, \u001b[38;5;241m*\u001b[39m\u001b[38;5;241m*\u001b[39mkwargs)\n",
      "File \u001b[0;32m~/anaconda3/lib/python3.11/site-packages/tenacity/__init__.py:379\u001b[0m, in \u001b[0;36mRetrying.__call__\u001b[0;34m(self, fn, *args, **kwargs)\u001b[0m\n\u001b[1;32m    378\u001b[0m \u001b[38;5;28;01mwhile\u001b[39;00m \u001b[38;5;28;01mTrue\u001b[39;00m:\n\u001b[0;32m--> 379\u001b[0m     do \u001b[38;5;241m=\u001b[39m \u001b[38;5;28mself\u001b[39m\u001b[38;5;241m.\u001b[39miter(retry_state\u001b[38;5;241m=\u001b[39mretry_state)\n\u001b[1;32m    380\u001b[0m     \u001b[38;5;28;01mif\u001b[39;00m \u001b[38;5;28misinstance\u001b[39m(do, DoAttempt):\n",
      "File \u001b[0;32m~/anaconda3/lib/python3.11/site-packages/tenacity/__init__.py:314\u001b[0m, in \u001b[0;36mBaseRetrying.iter\u001b[0;34m(self, retry_state)\u001b[0m\n\u001b[1;32m    313\u001b[0m \u001b[38;5;28;01mif\u001b[39;00m \u001b[38;5;129;01mnot\u001b[39;00m (is_explicit_retry \u001b[38;5;129;01mor\u001b[39;00m \u001b[38;5;28mself\u001b[39m\u001b[38;5;241m.\u001b[39mretry(retry_state)):\n\u001b[0;32m--> 314\u001b[0m     \u001b[38;5;28;01mreturn\u001b[39;00m fut\u001b[38;5;241m.\u001b[39mresult()\n\u001b[1;32m    316\u001b[0m \u001b[38;5;28;01mif\u001b[39;00m \u001b[38;5;28mself\u001b[39m\u001b[38;5;241m.\u001b[39mafter \u001b[38;5;129;01mis\u001b[39;00m \u001b[38;5;129;01mnot\u001b[39;00m \u001b[38;5;28;01mNone\u001b[39;00m:\n",
      "File \u001b[0;32m~/anaconda3/lib/python3.11/concurrent/futures/_base.py:449\u001b[0m, in \u001b[0;36mFuture.result\u001b[0;34m(self, timeout)\u001b[0m\n\u001b[1;32m    448\u001b[0m \u001b[38;5;28;01melif\u001b[39;00m \u001b[38;5;28mself\u001b[39m\u001b[38;5;241m.\u001b[39m_state \u001b[38;5;241m==\u001b[39m FINISHED:\n\u001b[0;32m--> 449\u001b[0m     \u001b[38;5;28;01mreturn\u001b[39;00m \u001b[38;5;28mself\u001b[39m\u001b[38;5;241m.\u001b[39m__get_result()\n\u001b[1;32m    451\u001b[0m \u001b[38;5;28mself\u001b[39m\u001b[38;5;241m.\u001b[39m_condition\u001b[38;5;241m.\u001b[39mwait(timeout)\n",
      "File \u001b[0;32m~/anaconda3/lib/python3.11/concurrent/futures/_base.py:401\u001b[0m, in \u001b[0;36mFuture.__get_result\u001b[0;34m(self)\u001b[0m\n\u001b[1;32m    400\u001b[0m \u001b[38;5;28;01mtry\u001b[39;00m:\n\u001b[0;32m--> 401\u001b[0m     \u001b[38;5;28;01mraise\u001b[39;00m \u001b[38;5;28mself\u001b[39m\u001b[38;5;241m.\u001b[39m_exception\n\u001b[1;32m    402\u001b[0m \u001b[38;5;28;01mfinally\u001b[39;00m:\n\u001b[1;32m    403\u001b[0m     \u001b[38;5;66;03m# Break a reference cycle with the exception in self._exception\u001b[39;00m\n",
      "File \u001b[0;32m~/anaconda3/lib/python3.11/site-packages/tenacity/__init__.py:382\u001b[0m, in \u001b[0;36mRetrying.__call__\u001b[0;34m(self, fn, *args, **kwargs)\u001b[0m\n\u001b[1;32m    381\u001b[0m \u001b[38;5;28;01mtry\u001b[39;00m:\n\u001b[0;32m--> 382\u001b[0m     result \u001b[38;5;241m=\u001b[39m fn(\u001b[38;5;241m*\u001b[39margs, \u001b[38;5;241m*\u001b[39m\u001b[38;5;241m*\u001b[39mkwargs)\n\u001b[1;32m    383\u001b[0m \u001b[38;5;28;01mexcept\u001b[39;00m \u001b[38;5;167;01mBaseException\u001b[39;00m:  \u001b[38;5;66;03m# noqa: B902\u001b[39;00m\n",
      "File \u001b[0;32m~/anaconda3/lib/python3.11/site-packages/botocore/client.py:569\u001b[0m, in \u001b[0;36mClientCreator._create_api_method.<locals>._api_call\u001b[0;34m(self, *args, **kwargs)\u001b[0m\n\u001b[1;32m    568\u001b[0m \u001b[38;5;66;03m# The \"self\" in this scope is referring to the BaseClient.\u001b[39;00m\n\u001b[0;32m--> 569\u001b[0m \u001b[38;5;28;01mreturn\u001b[39;00m \u001b[38;5;28mself\u001b[39m\u001b[38;5;241m.\u001b[39m_make_api_call(operation_name, kwargs)\n",
      "File \u001b[0;32m~/anaconda3/lib/python3.11/site-packages/botocore/client.py:1005\u001b[0m, in \u001b[0;36mBaseClient._make_api_call\u001b[0;34m(self, operation_name, api_params)\u001b[0m\n\u001b[1;32m   1004\u001b[0m     apply_request_checksum(request_dict)\n\u001b[0;32m-> 1005\u001b[0m     http, parsed_response \u001b[38;5;241m=\u001b[39m \u001b[38;5;28mself\u001b[39m\u001b[38;5;241m.\u001b[39m_make_request(\n\u001b[1;32m   1006\u001b[0m         operation_model, request_dict, request_context\n\u001b[1;32m   1007\u001b[0m     )\n\u001b[1;32m   1009\u001b[0m \u001b[38;5;28mself\u001b[39m\u001b[38;5;241m.\u001b[39mmeta\u001b[38;5;241m.\u001b[39mevents\u001b[38;5;241m.\u001b[39memit(\n\u001b[1;32m   1010\u001b[0m     \u001b[38;5;124mf\u001b[39m\u001b[38;5;124m'\u001b[39m\u001b[38;5;124mafter-call.\u001b[39m\u001b[38;5;132;01m{\u001b[39;00mservice_id\u001b[38;5;132;01m}\u001b[39;00m\u001b[38;5;124m.\u001b[39m\u001b[38;5;132;01m{\u001b[39;00moperation_name\u001b[38;5;132;01m}\u001b[39;00m\u001b[38;5;124m'\u001b[39m,\n\u001b[1;32m   1011\u001b[0m     http_response\u001b[38;5;241m=\u001b[39mhttp,\n\u001b[0;32m   (...)\u001b[0m\n\u001b[1;32m   1014\u001b[0m     context\u001b[38;5;241m=\u001b[39mrequest_context,\n\u001b[1;32m   1015\u001b[0m )\n",
      "File \u001b[0;32m~/anaconda3/lib/python3.11/site-packages/botocore/client.py:1029\u001b[0m, in \u001b[0;36mBaseClient._make_request\u001b[0;34m(self, operation_model, request_dict, request_context)\u001b[0m\n\u001b[1;32m   1028\u001b[0m \u001b[38;5;28;01mtry\u001b[39;00m:\n\u001b[0;32m-> 1029\u001b[0m     \u001b[38;5;28;01mreturn\u001b[39;00m \u001b[38;5;28mself\u001b[39m\u001b[38;5;241m.\u001b[39m_endpoint\u001b[38;5;241m.\u001b[39mmake_request(operation_model, request_dict)\n\u001b[1;32m   1030\u001b[0m \u001b[38;5;28;01mexcept\u001b[39;00m \u001b[38;5;167;01mException\u001b[39;00m \u001b[38;5;28;01mas\u001b[39;00m e:\n",
      "File \u001b[0;32m~/anaconda3/lib/python3.11/site-packages/botocore/endpoint.py:119\u001b[0m, in \u001b[0;36mEndpoint.make_request\u001b[0;34m(self, operation_model, request_dict)\u001b[0m\n\u001b[1;32m    114\u001b[0m logger\u001b[38;5;241m.\u001b[39mdebug(\n\u001b[1;32m    115\u001b[0m     \u001b[38;5;124m\"\u001b[39m\u001b[38;5;124mMaking request for \u001b[39m\u001b[38;5;132;01m%s\u001b[39;00m\u001b[38;5;124m with params: \u001b[39m\u001b[38;5;132;01m%s\u001b[39;00m\u001b[38;5;124m\"\u001b[39m,\n\u001b[1;32m    116\u001b[0m     operation_model,\n\u001b[1;32m    117\u001b[0m     request_dict,\n\u001b[1;32m    118\u001b[0m )\n\u001b[0;32m--> 119\u001b[0m \u001b[38;5;28;01mreturn\u001b[39;00m \u001b[38;5;28mself\u001b[39m\u001b[38;5;241m.\u001b[39m_send_request(request_dict, operation_model)\n",
      "File \u001b[0;32m~/anaconda3/lib/python3.11/site-packages/botocore/endpoint.py:196\u001b[0m, in \u001b[0;36mEndpoint._send_request\u001b[0;34m(self, request_dict, operation_model)\u001b[0m\n\u001b[1;32m    195\u001b[0m \u001b[38;5;28mself\u001b[39m\u001b[38;5;241m.\u001b[39m_update_retries_context(context, attempts)\n\u001b[0;32m--> 196\u001b[0m request \u001b[38;5;241m=\u001b[39m \u001b[38;5;28mself\u001b[39m\u001b[38;5;241m.\u001b[39mcreate_request(request_dict, operation_model)\n\u001b[1;32m    197\u001b[0m success_response, exception \u001b[38;5;241m=\u001b[39m \u001b[38;5;28mself\u001b[39m\u001b[38;5;241m.\u001b[39m_get_response(\n\u001b[1;32m    198\u001b[0m     request, operation_model, context\n\u001b[1;32m    199\u001b[0m )\n",
      "File \u001b[0;32m~/anaconda3/lib/python3.11/site-packages/botocore/endpoint.py:132\u001b[0m, in \u001b[0;36mEndpoint.create_request\u001b[0;34m(self, params, operation_model)\u001b[0m\n\u001b[1;32m    131\u001b[0m     event_name \u001b[38;5;241m=\u001b[39m \u001b[38;5;124mf\u001b[39m\u001b[38;5;124m'\u001b[39m\u001b[38;5;124mrequest-created.\u001b[39m\u001b[38;5;132;01m{\u001b[39;00mservice_id\u001b[38;5;132;01m}\u001b[39;00m\u001b[38;5;124m.\u001b[39m\u001b[38;5;132;01m{\u001b[39;00moperation_model\u001b[38;5;241m.\u001b[39mname\u001b[38;5;132;01m}\u001b[39;00m\u001b[38;5;124m'\u001b[39m\n\u001b[0;32m--> 132\u001b[0m     \u001b[38;5;28mself\u001b[39m\u001b[38;5;241m.\u001b[39m_event_emitter\u001b[38;5;241m.\u001b[39memit(\n\u001b[1;32m    133\u001b[0m         event_name,\n\u001b[1;32m    134\u001b[0m         request\u001b[38;5;241m=\u001b[39mrequest,\n\u001b[1;32m    135\u001b[0m         operation_name\u001b[38;5;241m=\u001b[39moperation_model\u001b[38;5;241m.\u001b[39mname,\n\u001b[1;32m    136\u001b[0m     )\n\u001b[1;32m    137\u001b[0m prepared_request \u001b[38;5;241m=\u001b[39m \u001b[38;5;28mself\u001b[39m\u001b[38;5;241m.\u001b[39mprepare_request(request)\n",
      "File \u001b[0;32m~/anaconda3/lib/python3.11/site-packages/botocore/hooks.py:412\u001b[0m, in \u001b[0;36mEventAliaser.emit\u001b[0;34m(self, event_name, **kwargs)\u001b[0m\n\u001b[1;32m    411\u001b[0m aliased_event_name \u001b[38;5;241m=\u001b[39m \u001b[38;5;28mself\u001b[39m\u001b[38;5;241m.\u001b[39m_alias_event_name(event_name)\n\u001b[0;32m--> 412\u001b[0m \u001b[38;5;28;01mreturn\u001b[39;00m \u001b[38;5;28mself\u001b[39m\u001b[38;5;241m.\u001b[39m_emitter\u001b[38;5;241m.\u001b[39memit(aliased_event_name, \u001b[38;5;241m*\u001b[39m\u001b[38;5;241m*\u001b[39mkwargs)\n",
      "File \u001b[0;32m~/anaconda3/lib/python3.11/site-packages/botocore/hooks.py:256\u001b[0m, in \u001b[0;36mHierarchicalEmitter.emit\u001b[0;34m(self, event_name, **kwargs)\u001b[0m\n\u001b[1;32m    246\u001b[0m \u001b[38;5;250m\u001b[39m\u001b[38;5;124;03m\"\"\"\u001b[39;00m\n\u001b[1;32m    247\u001b[0m \u001b[38;5;124;03mEmit an event by name with arguments passed as keyword args.\u001b[39;00m\n\u001b[1;32m    248\u001b[0m \n\u001b[0;32m   (...)\u001b[0m\n\u001b[1;32m    254\u001b[0m \u001b[38;5;124;03m         handlers.\u001b[39;00m\n\u001b[1;32m    255\u001b[0m \u001b[38;5;124;03m\"\"\"\u001b[39;00m\n\u001b[0;32m--> 256\u001b[0m \u001b[38;5;28;01mreturn\u001b[39;00m \u001b[38;5;28mself\u001b[39m\u001b[38;5;241m.\u001b[39m_emit(event_name, kwargs)\n",
      "File \u001b[0;32m~/anaconda3/lib/python3.11/site-packages/botocore/hooks.py:239\u001b[0m, in \u001b[0;36mHierarchicalEmitter._emit\u001b[0;34m(self, event_name, kwargs, stop_on_response)\u001b[0m\n\u001b[1;32m    238\u001b[0m logger\u001b[38;5;241m.\u001b[39mdebug(\u001b[38;5;124m'\u001b[39m\u001b[38;5;124mEvent \u001b[39m\u001b[38;5;132;01m%s\u001b[39;00m\u001b[38;5;124m: calling handler \u001b[39m\u001b[38;5;132;01m%s\u001b[39;00m\u001b[38;5;124m'\u001b[39m, event_name, handler)\n\u001b[0;32m--> 239\u001b[0m response \u001b[38;5;241m=\u001b[39m handler(\u001b[38;5;241m*\u001b[39m\u001b[38;5;241m*\u001b[39mkwargs)\n\u001b[1;32m    240\u001b[0m responses\u001b[38;5;241m.\u001b[39mappend((handler, response))\n",
      "File \u001b[0;32m~/anaconda3/lib/python3.11/site-packages/botocore/signers.py:106\u001b[0m, in \u001b[0;36mRequestSigner.handler\u001b[0;34m(self, operation_name, request, **kwargs)\u001b[0m\n\u001b[1;32m    101\u001b[0m \u001b[38;5;28;01mdef\u001b[39;00m \u001b[38;5;21mhandler\u001b[39m(\u001b[38;5;28mself\u001b[39m, operation_name\u001b[38;5;241m=\u001b[39m\u001b[38;5;28;01mNone\u001b[39;00m, request\u001b[38;5;241m=\u001b[39m\u001b[38;5;28;01mNone\u001b[39;00m, \u001b[38;5;241m*\u001b[39m\u001b[38;5;241m*\u001b[39mkwargs):\n\u001b[1;32m    102\u001b[0m     \u001b[38;5;66;03m# This is typically hooked up to the \"request-created\" event\u001b[39;00m\n\u001b[1;32m    103\u001b[0m     \u001b[38;5;66;03m# from a client's event emitter.  When a new request is created\u001b[39;00m\n\u001b[1;32m    104\u001b[0m     \u001b[38;5;66;03m# this method is invoked to sign the request.\u001b[39;00m\n\u001b[1;32m    105\u001b[0m     \u001b[38;5;66;03m# Don't call this method directly.\u001b[39;00m\n\u001b[0;32m--> 106\u001b[0m     \u001b[38;5;28;01mreturn\u001b[39;00m \u001b[38;5;28mself\u001b[39m\u001b[38;5;241m.\u001b[39msign(operation_name, request)\n",
      "File \u001b[0;32m~/anaconda3/lib/python3.11/site-packages/botocore/signers.py:198\u001b[0m, in \u001b[0;36mRequestSigner.sign\u001b[0;34m(self, operation_name, request, region_name, signing_type, expires_in, signing_name)\u001b[0m\n\u001b[1;32m    196\u001b[0m         \u001b[38;5;28;01mraise\u001b[39;00m e\n\u001b[0;32m--> 198\u001b[0m auth\u001b[38;5;241m.\u001b[39madd_auth(request)\n",
      "File \u001b[0;32m~/anaconda3/lib/python3.11/site-packages/botocore/auth.py:424\u001b[0m, in \u001b[0;36mSigV4Auth.add_auth\u001b[0;34m(self, request)\u001b[0m\n\u001b[1;32m    423\u001b[0m \u001b[38;5;28;01mif\u001b[39;00m \u001b[38;5;28mself\u001b[39m\u001b[38;5;241m.\u001b[39mcredentials \u001b[38;5;129;01mis\u001b[39;00m \u001b[38;5;28;01mNone\u001b[39;00m:\n\u001b[0;32m--> 424\u001b[0m     \u001b[38;5;28;01mraise\u001b[39;00m NoCredentialsError()\n\u001b[1;32m    425\u001b[0m datetime_now \u001b[38;5;241m=\u001b[39m datetime\u001b[38;5;241m.\u001b[39mdatetime\u001b[38;5;241m.\u001b[39mutcnow()\n",
      "\u001b[0;31mNoCredentialsError\u001b[0m: Unable to locate credentials",
      "\nThe above exception was the direct cause of the following exception:\n",
      "\u001b[0;31mDatabaseError\u001b[0m                             Traceback (most recent call last)",
      "File \u001b[0;32m~/anaconda3/lib/python3.11/site-packages/pandas/io/sql.py:2262\u001b[0m, in \u001b[0;36mSQLiteDatabase.execute\u001b[0;34m(self, sql, params)\u001b[0m\n\u001b[1;32m   2261\u001b[0m \u001b[38;5;28;01mtry\u001b[39;00m:\n\u001b[0;32m-> 2262\u001b[0m     cur\u001b[38;5;241m.\u001b[39mexecute(sql, \u001b[38;5;241m*\u001b[39margs)\n\u001b[1;32m   2263\u001b[0m     \u001b[38;5;28;01mreturn\u001b[39;00m cur\n",
      "File \u001b[0;32m~/anaconda3/lib/python3.11/site-packages/pyathena/cursor.py:89\u001b[0m, in \u001b[0;36mCursor.execute\u001b[0;34m(self, operation, parameters, work_group, s3_staging_dir, cache_size, cache_expiration_time, result_reuse_enable, result_reuse_minutes, paramstyle, **kwargs)\u001b[0m\n\u001b[1;32m     88\u001b[0m \u001b[38;5;28mself\u001b[39m\u001b[38;5;241m.\u001b[39m_reset_state()\n\u001b[0;32m---> 89\u001b[0m \u001b[38;5;28mself\u001b[39m\u001b[38;5;241m.\u001b[39mquery_id \u001b[38;5;241m=\u001b[39m \u001b[38;5;28mself\u001b[39m\u001b[38;5;241m.\u001b[39m_execute(\n\u001b[1;32m     90\u001b[0m     operation,\n\u001b[1;32m     91\u001b[0m     parameters\u001b[38;5;241m=\u001b[39mparameters,\n\u001b[1;32m     92\u001b[0m     work_group\u001b[38;5;241m=\u001b[39mwork_group,\n\u001b[1;32m     93\u001b[0m     s3_staging_dir\u001b[38;5;241m=\u001b[39ms3_staging_dir,\n\u001b[1;32m     94\u001b[0m     cache_size\u001b[38;5;241m=\u001b[39mcache_size,\n\u001b[1;32m     95\u001b[0m     cache_expiration_time\u001b[38;5;241m=\u001b[39mcache_expiration_time,\n\u001b[1;32m     96\u001b[0m     result_reuse_enable\u001b[38;5;241m=\u001b[39mresult_reuse_enable,\n\u001b[1;32m     97\u001b[0m     result_reuse_minutes\u001b[38;5;241m=\u001b[39mresult_reuse_minutes,\n\u001b[1;32m     98\u001b[0m     paramstyle\u001b[38;5;241m=\u001b[39mparamstyle,\n\u001b[1;32m     99\u001b[0m )\n\u001b[1;32m    100\u001b[0m query_execution \u001b[38;5;241m=\u001b[39m cast(AthenaQueryExecution, \u001b[38;5;28mself\u001b[39m\u001b[38;5;241m.\u001b[39m_poll(\u001b[38;5;28mself\u001b[39m\u001b[38;5;241m.\u001b[39mquery_id))\n",
      "File \u001b[0;32m~/anaconda3/lib/python3.11/site-packages/pyathena/common.py:594\u001b[0m, in \u001b[0;36mBaseCursor._execute\u001b[0;34m(self, operation, parameters, work_group, s3_staging_dir, cache_size, cache_expiration_time, result_reuse_enable, result_reuse_minutes, paramstyle)\u001b[0m\n\u001b[1;32m    593\u001b[0m         _logger\u001b[38;5;241m.\u001b[39mexception(\u001b[38;5;124m\"\u001b[39m\u001b[38;5;124mFailed to execute query.\u001b[39m\u001b[38;5;124m\"\u001b[39m)\n\u001b[0;32m--> 594\u001b[0m         \u001b[38;5;28;01mraise\u001b[39;00m DatabaseError(\u001b[38;5;241m*\u001b[39me\u001b[38;5;241m.\u001b[39margs) \u001b[38;5;28;01mfrom\u001b[39;00m \u001b[38;5;21;01me\u001b[39;00m\n\u001b[1;32m    595\u001b[0m \u001b[38;5;28;01mreturn\u001b[39;00m query_id\n",
      "\u001b[0;31mDatabaseError\u001b[0m: Unable to locate credentials",
      "\nDuring handling of the above exception, another exception occurred:\n",
      "\u001b[0;31mNotSupportedError\u001b[0m                         Traceback (most recent call last)",
      "File \u001b[0;32m~/anaconda3/lib/python3.11/site-packages/pandas/io/sql.py:2266\u001b[0m, in \u001b[0;36mSQLiteDatabase.execute\u001b[0;34m(self, sql, params)\u001b[0m\n\u001b[1;32m   2265\u001b[0m \u001b[38;5;28;01mtry\u001b[39;00m:\n\u001b[0;32m-> 2266\u001b[0m     \u001b[38;5;28mself\u001b[39m\u001b[38;5;241m.\u001b[39mcon\u001b[38;5;241m.\u001b[39mrollback()\n\u001b[1;32m   2267\u001b[0m \u001b[38;5;28;01mexcept\u001b[39;00m \u001b[38;5;167;01mException\u001b[39;00m \u001b[38;5;28;01mas\u001b[39;00m inner_exc:  \u001b[38;5;66;03m# pragma: no cover\u001b[39;00m\n",
      "File \u001b[0;32m~/anaconda3/lib/python3.11/site-packages/pyathena/connection.py:368\u001b[0m, in \u001b[0;36mConnection.rollback\u001b[0;34m(self)\u001b[0m\n\u001b[1;32m    367\u001b[0m \u001b[38;5;28;01mdef\u001b[39;00m \u001b[38;5;21mrollback\u001b[39m(\u001b[38;5;28mself\u001b[39m) \u001b[38;5;241m-\u001b[39m\u001b[38;5;241m>\u001b[39m \u001b[38;5;28;01mNone\u001b[39;00m:\n\u001b[0;32m--> 368\u001b[0m     \u001b[38;5;28;01mraise\u001b[39;00m NotSupportedError\n",
      "\u001b[0;31mNotSupportedError\u001b[0m: ",
      "\nThe above exception was the direct cause of the following exception:\n",
      "\u001b[0;31mDatabaseError\u001b[0m                             Traceback (most recent call last)",
      "Cell \u001b[0;32mIn[8], line 2\u001b[0m\n\u001b[1;32m      1\u001b[0m \u001b[38;5;66;03m# pd.set_option('display.max_colwidth', None) # This code expands the table horizontally so that all table cells are visible.\u001b[39;00m\n\u001b[0;32m----> 2\u001b[0m pd\u001b[38;5;241m.\u001b[39mread_sql(\u001b[38;5;124m'\u001b[39m\u001b[38;5;124mSELECT * FROM default.g1000vcf_csv_int LIMIT 10\u001b[39m\u001b[38;5;124m'\u001b[39m, conn)\u001b[38;5;241m.\u001b[39mhead(\u001b[38;5;241m10\u001b[39m)\n",
      "File \u001b[0;32m~/anaconda3/lib/python3.11/site-packages/pandas/io/sql.py:654\u001b[0m, in \u001b[0;36mread_sql\u001b[0;34m(sql, con, index_col, coerce_float, params, parse_dates, columns, chunksize, dtype_backend, dtype)\u001b[0m\n\u001b[1;32m    652\u001b[0m \u001b[38;5;28;01mwith\u001b[39;00m pandasSQL_builder(con) \u001b[38;5;28;01mas\u001b[39;00m pandas_sql:\n\u001b[1;32m    653\u001b[0m     \u001b[38;5;28;01mif\u001b[39;00m \u001b[38;5;28misinstance\u001b[39m(pandas_sql, SQLiteDatabase):\n\u001b[0;32m--> 654\u001b[0m         \u001b[38;5;28;01mreturn\u001b[39;00m pandas_sql\u001b[38;5;241m.\u001b[39mread_query(\n\u001b[1;32m    655\u001b[0m             sql,\n\u001b[1;32m    656\u001b[0m             index_col\u001b[38;5;241m=\u001b[39mindex_col,\n\u001b[1;32m    657\u001b[0m             params\u001b[38;5;241m=\u001b[39mparams,\n\u001b[1;32m    658\u001b[0m             coerce_float\u001b[38;5;241m=\u001b[39mcoerce_float,\n\u001b[1;32m    659\u001b[0m             parse_dates\u001b[38;5;241m=\u001b[39mparse_dates,\n\u001b[1;32m    660\u001b[0m             chunksize\u001b[38;5;241m=\u001b[39mchunksize,\n\u001b[1;32m    661\u001b[0m             dtype_backend\u001b[38;5;241m=\u001b[39mdtype_backend,\n\u001b[1;32m    662\u001b[0m             dtype\u001b[38;5;241m=\u001b[39mdtype,\n\u001b[1;32m    663\u001b[0m         )\n\u001b[1;32m    665\u001b[0m     \u001b[38;5;28;01mtry\u001b[39;00m:\n\u001b[1;32m    666\u001b[0m         _is_table_name \u001b[38;5;241m=\u001b[39m pandas_sql\u001b[38;5;241m.\u001b[39mhas_table(sql)\n",
      "File \u001b[0;32m~/anaconda3/lib/python3.11/site-packages/pandas/io/sql.py:2326\u001b[0m, in \u001b[0;36mSQLiteDatabase.read_query\u001b[0;34m(self, sql, index_col, coerce_float, parse_dates, params, chunksize, dtype, dtype_backend)\u001b[0m\n\u001b[1;32m   2315\u001b[0m \u001b[38;5;28;01mdef\u001b[39;00m \u001b[38;5;21mread_query\u001b[39m(\n\u001b[1;32m   2316\u001b[0m     \u001b[38;5;28mself\u001b[39m,\n\u001b[1;32m   2317\u001b[0m     sql,\n\u001b[0;32m   (...)\u001b[0m\n\u001b[1;32m   2324\u001b[0m     dtype_backend: DtypeBackend \u001b[38;5;241m|\u001b[39m Literal[\u001b[38;5;124m\"\u001b[39m\u001b[38;5;124mnumpy\u001b[39m\u001b[38;5;124m\"\u001b[39m] \u001b[38;5;241m=\u001b[39m \u001b[38;5;124m\"\u001b[39m\u001b[38;5;124mnumpy\u001b[39m\u001b[38;5;124m\"\u001b[39m,\n\u001b[1;32m   2325\u001b[0m ) \u001b[38;5;241m-\u001b[39m\u001b[38;5;241m>\u001b[39m DataFrame \u001b[38;5;241m|\u001b[39m Iterator[DataFrame]:\n\u001b[0;32m-> 2326\u001b[0m     cursor \u001b[38;5;241m=\u001b[39m \u001b[38;5;28mself\u001b[39m\u001b[38;5;241m.\u001b[39mexecute(sql, params)\n\u001b[1;32m   2327\u001b[0m     columns \u001b[38;5;241m=\u001b[39m [col_desc[\u001b[38;5;241m0\u001b[39m] \u001b[38;5;28;01mfor\u001b[39;00m col_desc \u001b[38;5;129;01min\u001b[39;00m cursor\u001b[38;5;241m.\u001b[39mdescription]\n\u001b[1;32m   2329\u001b[0m     \u001b[38;5;28;01mif\u001b[39;00m chunksize \u001b[38;5;129;01mis\u001b[39;00m \u001b[38;5;129;01mnot\u001b[39;00m \u001b[38;5;28;01mNone\u001b[39;00m:\n",
      "File \u001b[0;32m~/anaconda3/lib/python3.11/site-packages/pandas/io/sql.py:2271\u001b[0m, in \u001b[0;36mSQLiteDatabase.execute\u001b[0;34m(self, sql, params)\u001b[0m\n\u001b[1;32m   2267\u001b[0m \u001b[38;5;28;01mexcept\u001b[39;00m \u001b[38;5;167;01mException\u001b[39;00m \u001b[38;5;28;01mas\u001b[39;00m inner_exc:  \u001b[38;5;66;03m# pragma: no cover\u001b[39;00m\n\u001b[1;32m   2268\u001b[0m     ex \u001b[38;5;241m=\u001b[39m DatabaseError(\n\u001b[1;32m   2269\u001b[0m         \u001b[38;5;124mf\u001b[39m\u001b[38;5;124m\"\u001b[39m\u001b[38;5;124mExecution failed on sql: \u001b[39m\u001b[38;5;132;01m{\u001b[39;00msql\u001b[38;5;132;01m}\u001b[39;00m\u001b[38;5;130;01m\\n\u001b[39;00m\u001b[38;5;132;01m{\u001b[39;00mexc\u001b[38;5;132;01m}\u001b[39;00m\u001b[38;5;130;01m\\n\u001b[39;00m\u001b[38;5;124munable to rollback\u001b[39m\u001b[38;5;124m\"\u001b[39m\n\u001b[1;32m   2270\u001b[0m     )\n\u001b[0;32m-> 2271\u001b[0m     \u001b[38;5;28;01mraise\u001b[39;00m ex \u001b[38;5;28;01mfrom\u001b[39;00m \u001b[38;5;21;01minner_exc\u001b[39;00m\n\u001b[1;32m   2273\u001b[0m ex \u001b[38;5;241m=\u001b[39m DatabaseError(\u001b[38;5;124mf\u001b[39m\u001b[38;5;124m\"\u001b[39m\u001b[38;5;124mExecution failed on sql \u001b[39m\u001b[38;5;124m'\u001b[39m\u001b[38;5;132;01m{\u001b[39;00msql\u001b[38;5;132;01m}\u001b[39;00m\u001b[38;5;124m'\u001b[39m\u001b[38;5;124m: \u001b[39m\u001b[38;5;132;01m{\u001b[39;00mexc\u001b[38;5;132;01m}\u001b[39;00m\u001b[38;5;124m\"\u001b[39m)\n\u001b[1;32m   2274\u001b[0m \u001b[38;5;28;01mraise\u001b[39;00m ex \u001b[38;5;28;01mfrom\u001b[39;00m \u001b[38;5;21;01mexc\u001b[39;00m\n",
      "\u001b[0;31mDatabaseError\u001b[0m: Execution failed on sql: SELECT * FROM default.g1000vcf_csv_int LIMIT 10\nUnable to locate credentials\nunable to rollback"
     ]
    }
   ],
   "source": [
    "# pd.set_option('display.max_colwidth', None) # This code expands the table horizontally so that all table cells are visible.\n",
    "pd.read_sql('SELECT * FROM default.g1000vcf_csv_int LIMIT 10', conn).head(10)"
   ]
  },
  {
   "cell_type": "markdown",
   "id": "bac425fa",
   "metadata": {
    "id": "bac425fa"
   },
   "source": [
    "We will go through a few important columns for you to understand in the table above. If you want to dive deeper, you may find this document helpful:https://samtools.github.io/hts-specs/VCFv4.2.pdf\n",
    "\n",
    "1. `chrm` is the chromosome location.\n",
    "2. `start_position` is the start position of the DNA variant.\n",
    "3. `end_position` is the end position of the DNA variant.\n",
    "4. `reference_base` is the allele at a specific location in the reference genomes, which are considered as the \"approximated normal\".\n",
    "5. `alternate_base` is the allele that shows up at a specific location in the sample, but does not exist at the corresponding location in the reference genomes.\n",
    "6. `rsid` is the identification number of the SNPs (Single Nucleotide Polymorphism), see here: https://www.snpedia.com/index.php/SNPedia\n",
    "7. `qual` is the Phred-scaled quality score for the assertion made in ALT.\n",
    "8. `filter` indicates PASS when the position has passed all filters."
   ]
  },
  {
   "cell_type": "markdown",
   "id": "5f7d502e",
   "metadata": {
    "id": "5f7d502e"
   },
   "source": [
    "The `info` column explains additional information about the data. In the example below, we can tell the percentage of East Asian population who has `rs559815820` SNP is only **0.0399361%**. That is 2 alleles count out of 5008 alleles from 2504 samples in the ***1000 Genomes Project***. The percentage of East Asian population who has `rs559815820` SNP is **0.1%**."
   ]
  },
  {
   "cell_type": "markdown",
   "id": "f54bcd9b",
   "metadata": {
    "id": "f54bcd9b"
   },
   "source": [
    "<img src=\"materials/images/example-1.png\"/>"
   ]
  },
  {
   "cell_type": "markdown",
   "id": "c4e3a716",
   "metadata": {
    "id": "c4e3a716"
   },
   "source": [
    "Now, try to reference the explanation below about the additional information section. Select a SNP from the data you queried: How does this SNP present in the ethnic group you belong to, in comparison to other ethnic groups?\n",
    "\n",
    "1. `AC` stands for allele count in genotypes.\n",
    "2. `AF` stands for allele frequency. Note: allele frequency (AF) = allele count (AC)/ allele number (AN)\n",
    "3. `AN` stands for total number of alleles in genotypes.\n",
    "4. `NS` stands for number of samples with data.\n",
    "5. `EAS_AF` is the allele frequency of **East Asian population**.\n",
    "6. `AMR_AF` is the allele frequency of **Ad Mixed American population**.\n",
    "7. `EUR_AF` is the allele frequency of **European population**.\n",
    "8. `AFR_AF` is the allele frequency of **African population**.\n",
    "9. `SAS_AF` is the allele frequency of **South Asian population**."
   ]
  },
  {
   "cell_type": "markdown",
   "id": "2398b201",
   "metadata": {
    "id": "2398b201"
   },
   "source": [
    "---"
   ]
  },
  {
   "cell_type": "markdown",
   "id": "a0ba4728",
   "metadata": {
    "id": "a0ba4728"
   },
   "source": [
    "# Search for SNPs (Single Nucleotide Polymorphism)"
   ]
  },
  {
   "cell_type": "markdown",
   "id": "3b52cc1c",
   "metadata": {
    "id": "3b52cc1c"
   },
   "source": [
    "Next, pick a SNPs you are interested in investigating from this website: https://www.snpedia.com\n",
    "\n",
    "The website has SNPs associated with a wide range of phenotypes. You could start exploring the popular SNPs on the homepage.\n",
    "\n",
    "Here are a few examples:\n",
    "1. `rs53576` is highly associated with the ability to empathize with others.\n",
    "2. `rs72921001` is responsible for certain population's dislike towards the taste of cilantro.\n",
    "3. `rs28936679` is associated with sleep disorder.\n",
    "4. `rs1805009` is associated with skin cancer."
   ]
  },
  {
   "cell_type": "markdown",
   "id": "24111193",
   "metadata": {
    "id": "24111193"
   },
   "source": [
    "The example code below calls the data in the ***1000 Genomes Project*** that has `rs12913832`, see the code  ` WHERE rsid='rs12913832'`.\n",
    "\n",
    "`rs12913832` is the SNP associated with blue or brown eye color."
   ]
  },
  {
   "cell_type": "code",
   "execution_count": null,
   "id": "c3ea6a0c",
   "metadata": {
    "id": "c3ea6a0c"
   },
   "outputs": [],
   "source": [
    "pd.set_option('display.max_colwidth', None) # This code expands the table horizontally so that all table cells are visible.\n",
    "pd.read_sql(\"SELECT * FROM \\\"default\\\".g1000vcf_csv_int WHERE rsid='rs12913832'\", conn).head()"
   ]
  },
  {
   "cell_type": "markdown",
   "id": "5d37f6ea",
   "metadata": {
    "id": "5d37f6ea"
   },
   "source": [
    "Does the result above make sense to you?\n",
    "\n",
    "We can see allele frequency of `rs12913832` among **Ad Mixed American** and **European** populations are 20.17% and 63.62% respectively, while only 0.2% among **East Asian** and 2.8% among **African** populations."
   ]
  },
  {
   "cell_type": "markdown",
   "id": "bbdffb00",
   "metadata": {
    "id": "bbdffb00"
   },
   "source": [
    "---"
   ]
  },
  {
   "cell_type": "markdown",
   "id": "8b582c80",
   "metadata": {
    "id": "8b582c80"
   },
   "source": [
    "# Query COSMIC68 Annotation Dataset (hg19)"
   ]
  },
  {
   "cell_type": "markdown",
   "id": "6ad07537",
   "metadata": {
    "id": "6ad07537"
   },
   "source": [
    "***COSMIC*** database is short for Catalogue of Somatic Mutations in Cancer [hg19 cosmic 68]. Learn more at\n",
    "https://cancer.sanger.ac.uk/cosmic.\n",
    "\n",
    "Now, let's take a look at few random rows of the ***COSMIC*** database:"
   ]
  },
  {
   "cell_type": "code",
   "execution_count": null,
   "id": "f478a8c1",
   "metadata": {
    "id": "f478a8c1"
   },
   "outputs": [],
   "source": [
    "pd.read_sql('SELECT * FROM \"1000_genomes\".hg19_cosmic68 LIMIT 10', conn).head(10)"
   ]
  },
  {
   "cell_type": "markdown",
   "id": "5b2ad8c8",
   "metadata": {
    "id": "5b2ad8c8"
   },
   "source": [
    "Like previous datasets, we see the chromosome location, start and end positions in DNA sequence, reference allele and alternate allele.\n",
    "\n",
    "The `cosmic_info` column tells us the types of cancer and mutation occurence."
   ]
  },
  {
   "cell_type": "markdown",
   "id": "96341538",
   "metadata": {
    "id": "96341538"
   },
   "source": [
    "---"
   ]
  },
  {
   "cell_type": "markdown",
   "id": "01e279ff",
   "metadata": {
    "id": "01e279ff"
   },
   "source": [
    "# Query UCSC RefGene Annotation Dataset (hg19)"
   ]
  },
  {
   "cell_type": "markdown",
   "id": "180c4f78",
   "metadata": {
    "id": "180c4f78"
   },
   "source": [
    "The NCBI RefSeq Genes composite track shows human protein-coding and non-protein-coding genes taken from the NCBI RNA reference sequences collection (RefSeq) [hg19 refGene]. You could learn more at the following:\n",
    "- https://hgdownload.cse.ucsc.edu/goldenPath/hg19/database/\n",
    "- https://genome.ucsc.edu/cgi-bin/hgTables?db=hg19&hgta_group=genes&hgta_track=refSeqComposite&hgta_table=refGene&hgta_doSchema=describe+table+schema (Schema for NCBI RefSeq - RefSeq genes from NCBI)"
   ]
  },
  {
   "cell_type": "markdown",
   "id": "bde31319",
   "metadata": {
    "id": "bde31319"
   },
   "source": [
    "<img src=\"materials/images/genetic-mutations.png\"/>"
   ]
  },
  {
   "cell_type": "markdown",
   "id": "3440eed7",
   "metadata": {
    "id": "3440eed7"
   },
   "source": [
    "Now, let's take a look at random rows of the dataset:"
   ]
  },
  {
   "cell_type": "code",
   "execution_count": null,
   "id": "2898afc2",
   "metadata": {
    "id": "2898afc2"
   },
   "outputs": [],
   "source": [
    "pd.read_sql('SELECT * FROM \"1000_genomes\".hg19_ucsc_refgene_int LIMIT 10', conn).head(10)"
   ]
  },
  {
   "cell_type": "markdown",
   "id": "3fd80a8a",
   "metadata": {
    "id": "3fd80a8a"
   },
   "source": [
    "Here are what some of the columns mean according to Schema for NCBI RefSeq - RefSeq genes from NCBI:\n",
    "\n",
    "1. `cdsstart`: Coding region start.\n",
    "2. `cdsend`: Coding region end.\n",
    "3. `exoncount`: Number of exons.\n",
    "4. `strand`: + or - for strand\n"
   ]
  },
  {
   "cell_type": "markdown",
   "id": "89d36709",
   "metadata": {
    "id": "89d36709"
   },
   "source": [
    "---"
   ]
  },
  {
   "cell_type": "markdown",
   "id": "d6c47fc7",
   "metadata": {
    "id": "d6c47fc7"
   },
   "source": [
    "# Variant-Based Annotation"
   ]
  },
  {
   "cell_type": "markdown",
   "id": "1cc8a79b",
   "metadata": {
    "id": "1cc8a79b"
   },
   "source": [
    "Variant-based annotation aims to look for **exact matches** between a query variant and a record in annotation datasets (i.e., two items have identical  chromosome, start position, end position, reference allele and alternative allele).\n",
    "\n",
    "The code below uses the `JOIN` function to look for exact matches between the ***1000 Genomes Project*** dataset and the ***COSMIC*** dataset. It compares the start and end positions, reference allele, alternate allele at chromosome 2 between the two datasets."
   ]
  },
  {
   "cell_type": "code",
   "execution_count": null,
   "id": "7f140616",
   "metadata": {
    "id": "7f140616",
    "scrolled": true
   },
   "outputs": [],
   "source": [
    "pd.read_sql(\"SELECT A.chrm, A.start_position, A.end_position, A.reference_bases, A.alternate_bases,B.cosmic_info, A.info \"\n",
    "+ \" FROM (SELECT * FROM \\\"default\\\".g1000vcf_csv_int WHERE chrm='2') as A \"\n",
    "+ \" JOIN \"\n",
    "+ \" (SELECT * FROM \\\"1000_genomes\\\".hg19_cosmic68_int WHERE chrm='2') as B \"\n",
    "+ \" ON A.start_position=B.start_position AND A.alternate_bases=B.alternate_bases \"\n",
    "+ \" ORDER By  A.start_position\", conn).head()"
   ]
  },
  {
   "cell_type": "markdown",
   "id": "ff0e97ae",
   "metadata": {
    "id": "ff0e97ae"
   },
   "source": [
    "The returned table tells us information about genes associated with different types of cancers.\n",
    "\n",
    "In the example below, the cancer related to central nervous system is at chromosome 2, where the reference allele is C and alternate allele is T. It appears to only happen to **East Asian** population with a frequency of 1.69% while absent among other populations."
   ]
  },
  {
   "cell_type": "markdown",
   "id": "454c75a5",
   "metadata": {
    "id": "454c75a5"
   },
   "source": [
    "<img src=\"materials/images/example-2.png\"/>"
   ]
  },
  {
   "cell_type": "markdown",
   "id": "3cf54816",
   "metadata": {
    "id": "3cf54816"
   },
   "source": [
    "---"
   ]
  },
  {
   "cell_type": "markdown",
   "id": "ed2e7181",
   "metadata": {
    "id": "ed2e7181"
   },
   "source": [
    "# Interval-Based Annotation [TP53: chrm17]"
   ]
  },
  {
   "cell_type": "markdown",
   "id": "fdf1a4e7",
   "metadata": {
    "id": "fdf1a4e7"
   },
   "source": [
    "The aim of interval-based annotation is to look for overlap of a query variant with a region (this region could be a single position) in annotation databases."
   ]
  },
  {
   "cell_type": "markdown",
   "id": "d75acd23",
   "metadata": {
    "id": "d75acd23"
   },
   "source": [
    "<img src=\"materials/images/overlapping-condition.png\"/>"
   ]
  },
  {
   "cell_type": "markdown",
   "id": "4d7cb4ff",
   "metadata": {
    "id": "4d7cb4ff"
   },
   "source": [
    "<div class=\"alert alert-block alert-info\">\n",
    "<b> Green.start_position[X]<=Blue.end_position[B] AND Blue.start_position[A]<=Green.end_position[Y]</b>\n",
    "\n",
    "Source: https://stackoverflow.com/questions/20981783/how-to-sum-overlapping-interval-parts-in-sql.\n",
    "</div>"
   ]
  },
  {
   "cell_type": "markdown",
   "id": "772209bf",
   "metadata": {
    "id": "772209bf"
   },
   "source": [
    "The code below uses the `JOIN` function to compare two datasets using overlapping condition."
   ]
  },
  {
   "cell_type": "markdown",
   "id": "22aee871",
   "metadata": {
    "id": "22aee871"
   },
   "source": [
    "1. Rather than comparing whether the two datasets are exactly the same, this method focuses on overlapping regions. In the following example, we are running chromosome 17 from the ***1000 Genomes Project*** against gene TP53 from chromosome 17 in the ***UCSC RefGene Annotation*** dataset.\n",
    "2. The `ON` condition is trying to see if there is any overlapping between the two datasets in the selected region. See the graph below:\n"
   ]
  },
  {
   "cell_type": "code",
   "execution_count": null,
   "id": "be68c6ae",
   "metadata": {
    "id": "be68c6ae"
   },
   "outputs": [],
   "source": [
    "pd.read_sql(\"SELECT A.chrm, A.start_position, A.end_position, A.reference_bases, A.alternate_bases,B.name, B.name2, A.info \"\n",
    "+ \" FROM (SELECT * FROM \\\"default\\\".g1000vcf_csv_int WHERE chrm='17') as A \"\n",
    "+ \" JOIN \"\n",
    "+ \" (SELECT * FROM \\\"1000_genomes\\\".hg19_ucsc_refgene_int WHERE chrm='17' and name2='TP53') as B \"\n",
    "+ \" ON A.start_position<=B.end_position AND B.start_position<=A.end_position \"\n",
    "+ \" ORDER By  A.start_position\", conn).head()"
   ]
  },
  {
   "cell_type": "markdown",
   "id": "2e871602",
   "metadata": {
    "id": "2e871602"
   },
   "source": [
    "<img src=\"materials/images/conductor.png\"/>"
   ]
  },
  {
   "cell_type": "markdown",
   "id": "2ed7a679",
   "metadata": {
    "id": "2ed7a679"
   },
   "source": [
    "For your information, TP53 gene provides instructions for making a protein called tumor protein p53 (or p53). This protein acts as a tumor suppressor, which means that it regulates cell division by keeping cells from growing and dividing (proliferating) too fast, or in an uncontrolled way. TP53 acts like a conductor in an orchestra."
   ]
  },
  {
   "cell_type": "markdown",
   "id": "feed3754",
   "metadata": {
    "id": "feed3754"
   },
   "source": [
    "The table gives us a view of all the mutations on gene TP53 on chromosome 2. Typically, mutations on TP53 are considered as rare mutations."
   ]
  },
  {
   "cell_type": "markdown",
   "id": "629e1248",
   "metadata": {
    "id": "629e1248"
   },
   "source": [
    "---"
   ]
  },
  {
   "cell_type": "markdown",
   "id": "e39433dd",
   "metadata": {
    "id": "e39433dd"
   },
   "source": [
    "# Contributions & acknowledgement"
   ]
  },
  {
   "cell_type": "markdown",
   "id": "a1b11e03",
   "metadata": {
    "id": "a1b11e03"
   },
   "source": [
    "Thank the following team for working on this module:\n",
    "\n",
    "- **Module Content**: Amir Bahmani\n",
    "- **Engineering**: Amit Dixit\n",
    "- **UX/UI Design & Illustration**: Kexin Cha\n",
    "- **Video Production**: Francesca Goncalves\n",
    "- **Project Management**: Amir Bahmani, Kexin Cha"
   ]
  },
  {
   "cell_type": "markdown",
   "id": "df6e5f8b",
   "metadata": {
    "id": "df6e5f8b"
   },
   "source": [
    "---"
   ]
  },
  {
   "cell_type": "markdown",
   "id": "a6c76386",
   "metadata": {
    "id": "a6c76386"
   },
   "source": [
    "Copyright (c) 2022 Stanford Data Ocean (SDO)\n",
    "\n",
    "All rights reserved."
   ]
  }
 ],
 "metadata": {
  "colab": {
   "provenance": []
  },
  "kernelspec": {
   "display_name": "Python 3 (ipykernel)",
   "language": "python",
   "name": "python3"
  },
  "language_info": {
   "codemirror_mode": {
    "name": "ipython",
    "version": 3
   },
   "file_extension": ".py",
   "mimetype": "text/x-python",
   "name": "python",
   "nbconvert_exporter": "python",
   "pygments_lexer": "ipython3",
   "version": "3.11.7"
  }
 },
 "nbformat": 4,
 "nbformat_minor": 5
}
